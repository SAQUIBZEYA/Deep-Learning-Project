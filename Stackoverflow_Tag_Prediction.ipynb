{
  "nbformat": 4,
  "nbformat_minor": 0,
  "metadata": {
    "colab": {
      "name": "Stackoverflow_Tag_Prediction.ipynb",
      "provenance": [],
      "mount_file_id": "1zqlGYdQrfR5ohanAlpQ26NJyDTHMZUlk",
      "authorship_tag": "ABX9TyMNwe9738Kwmm+VphmyBIk9",
      "include_colab_link": true
    },
    "kernelspec": {
      "name": "python3",
      "display_name": "Python 3"
    },
    "accelerator": "GPU"
  },
  "cells": [
    {
      "cell_type": "markdown",
      "metadata": {
        "id": "view-in-github",
        "colab_type": "text"
      },
      "source": [
        "<a href=\"https://colab.research.google.com/github/SAQUIBZEYA/Deep-Learning-Project/blob/main/Stackoverflow_Tag_Prediction.ipynb\" target=\"_parent\"><img src=\"https://colab.research.google.com/assets/colab-badge.svg\" alt=\"Open In Colab\"/></a>"
      ]
    },
    {
      "cell_type": "code",
      "metadata": {
        "id": "fyVRdE2E0uod",
        "colab": {
          "base_uri": "https://localhost:8080/",
          "height": 35
        },
        "outputId": "944d0653-66bb-4546-b336-9d7dab690352"
      },
      "source": [
        "\r\n",
        "import tensorflow as tf\r\n",
        "tf.test.gpu_device_name()"
      ],
      "execution_count": 1,
      "outputs": [
        {
          "output_type": "execute_result",
          "data": {
            "application/vnd.google.colaboratory.intrinsic+json": {
              "type": "string"
            },
            "text/plain": [
              "'/device:GPU:0'"
            ]
          },
          "metadata": {
            "tags": []
          },
          "execution_count": 1
        }
      ]
    },
    {
      "cell_type": "code",
      "metadata": {
        "id": "LaCjAKLQXMts"
      },
      "source": [
        "!pip install -U -q PyDrive"
      ],
      "execution_count": 2,
      "outputs": []
    },
    {
      "cell_type": "code",
      "metadata": {
        "id": "xuyao9DxXQYB"
      },
      "source": [
        "\r\n",
        "from pydrive.auth import GoogleAuth\r\n",
        "from pydrive.drive import GoogleDrive\r\n",
        "from google.colab import auth\r\n",
        "from oauth2client.client import GoogleCredentials"
      ],
      "execution_count": 3,
      "outputs": []
    },
    {
      "cell_type": "code",
      "metadata": {
        "id": "nLoS2jgzXSez"
      },
      "source": [
        "auth.authenticate_user()\r\n",
        "gauth = GoogleAuth()\r\n",
        "gauth.credentials = GoogleCredentials.get_application_default()\r\n",
        "drive = GoogleDrive(gauth)"
      ],
      "execution_count": 8,
      "outputs": []
    },
    {
      "cell_type": "code",
      "metadata": {
        "colab": {
          "base_uri": "https://localhost:8080/"
        },
        "id": "ugDf9aBeXVUk",
        "outputId": "737df772-9933-4e88-b0da-8838edd599b6"
      },
      "source": [
        "\r\n",
        "file_list = drive.ListFile({'q': \"'root' in parents and trashed=false\"}).GetList()\r\n",
        "for file1 in file_list:\r\n",
        "  print('title: %s, id: %s' % (file1['title'], file1['id']))"
      ],
      "execution_count": 9,
      "outputs": [
        {
          "output_type": "stream",
          "text": [
            "title: stacksample.zip, id: 1gpQxAENOzeRLAMqqx7I71qSpQnjjWxJl\n",
            "title: Saquib_CV (1), id: 1ZoKQEDXQjfFV8_yhxJl3f6WNclQ-cAbt4VYG3wOxM-4\n",
            "title: TCOE%20First%20Week%20Plan.xlsx, id: 101dZvgHuZX_FcXmTnwir-OeU-3KgJgFX\n",
            "title: Aadhaar card.pdf, id: 1EPKaH3GMbeO6-7LYokSsbXt8FaB_KUiC\n",
            "title: Aadhaar card.pdf, id: 1fR7ANBBt4NniPaeapgxFWMUafHQ-fyDw\n",
            "title: New Doc 2020-12-12.pdf, id: 15ku7WzbxILUH3mmpsVww9E7xN2ZvHgH-\n",
            "title: Saquib_CV.pdf, id: 1Tk1Mzcu3gNEonWMJjr4Ca-OXcCKsT6R3\n",
            "title: PIVOT TABLE.xlsx, id: 1w_SLi3woHboaVG2qxrB39kmGHdPhMVIA\n",
            "title: Combine Data of All Sheets (1).xlsx, id: 1gyEjsEJYOj32G3NAWh9RAwd1UpXlFi5l\n",
            "title: Untitled spreadsheet, id: 1IN2eqxeY9WePKNTRMArEXeTIaOZseHdGanqJ26cP6ms\n",
            "title: Untitled form (Responses), id: 1-rdX2T49w_oOruPl3akE0UwTWWRd4fvLpeNtNkamLUw\n",
            "title: Import HTML.xlsx, id: 175GdF363LftGFKFqL6u1Ri--vlVvrdnw\n",
            "title: combine_workbook, id: 1bh8diCxwdk7crqGjGAZWTwk0Z9g7dAEeIjye4MxwR4s\n",
            "title: Combine _workbook, id: 19bHH9zYFIRvtti8-Ld2HkmOrJx6zdnMrWBtrAGRS2O0\n",
            "title: MAR_WORKBOOK, id: 1_Q8aY7P4qh2JU2ynIRWgZOOT7TT8a7s7WQBWHYrh99Y\n",
            "title: FEB_WORKBOOK, id: 17xTp6ltaOzMGjF-_1KGyL2GKHK88xlT8Bhvx8qNUalM\n",
            "title: JAN WORKBOOK, id: 1T87DJ5ewDoVeCG3MMD11fgQqEsZ-FrkqIlCTn7guCLA\n",
            "title: Combine Workbook.xlsx, id: 1CsOTaxwB5w_5tXA0axVAb8fH0_WZ8iTg\n",
            "title: First spreadsheet, id: 1uYLz_BG8gRgCsKPpnU0zqf1LOCAG08TqbY_4SvFbbKk\n",
            "title: Saquib_CV.pdf, id: 1wczJQyC_6xLSrcrl1EWLTicgGx9aINvC\n",
            "title: Data collection task.xlsx, id: 1YFxLG0XkBtBYUg8lpG38TpFUnO8cRmK8\n",
            "title: Untitled form, id: 1jFX_sh6PFn0DIGOarBpoRbkMfTq3XvVFpPWm2zU4-EE\n",
            "title: Untitled spreadsheet, id: 1vvOOLNwmlveDn4xew_E_Y7BpRcVNv_y2Vcd3mfNG8gk\n",
            "title: Untitled spreadsheet, id: 1S3LvpRnitV4COTrmdVMUXd2TCvF8OAg4j2v6wQixju8\n",
            "title: archive.zip, id: 1Utitxe8Py96A9hZWTlBBAAvbszUGodDb\n",
            "title: Saquib_CV.pdf, id: 1aF83fQyVcAxucVnzJ8nUndrDRb60Sazg\n",
            "title: AirBnB_price_Prediction.ipynb, id: 1VfH1ncImvWzH-E15ZyUXlwQqnSM2awWp\n",
            "title: AirBnB_price_Prediction.ipynb, id: 18dXY_j1j1P7NR4aN6cMxDs5QNQUuo5Du\n",
            "title: Dummy data, id: 1oojU9OHHKcxz1XSdOVc3fNUTCzpUgiFf-6_hwdjQKOc\n",
            "title: Dummy data.xlsx, id: 1NVdRdNdee1abJaTUXgEP81v38mvG8OAu\n",
            "title: Machine learning certificate.pdf, id: 18NB7txmDPOGh7M3u2AmmT9J6MglZOUNf\n",
            "title: InternAssignment, id: 1WSv61AMnnHcQWXTXVDHvrZ3qgOrAW-22geVQSuYhY4c\n",
            "title: InternAssignment.pdf, id: 1MuYc7_T0Zp00pYs9qL_jCRKkhSb3Gb2H\n",
            "title: RESUME_SAQUIB.pdf, id: 1-Xaz5ZszZ9TsEkYqvUro7z4o-66fXss2\n",
            "title: data analysis.twbx, id: 1zG3kcxb-J8sXjdCWfNK7S5bQTbqJitOE\n",
            "title: saquib cv.pdf, id: 1fEqq-TC9xAzZGIXH7hNMhozof31BqxVy\n",
            "title: Caravan insurance policy.ipynb, id: 1_W-EdqLW9Nv74H8iRI8XjLwfNBrZ9EeO\n",
            "title: saquib CV1.docx, id: 1ECRyL83J1RUESAdEbKZRm0GZNElZqIt4\n",
            "title: RESUME.docx, id: 1Z7zKrZKlENDnzYhnCleLv3ABbcU6Bs83\n",
            "title: .ipynb_checkpoints, id: 1-10AxeY9Fm33TB5StjlaNAaAXdGeCKHt\n",
            "title: Colab Notebooks, id: 1XrlvZ0-1LRxuqZOl8Mk_d-f8aofCCGNk\n",
            "title: IMG-20190609-WA0016.jpg, id: 1FxpOHGXpi_28vlp0t6mysYrIYWUOeZPF\n",
            "title: TestData.csv, id: 0B-pje1FXgwdONGNtdDZKbjZYZ09MQ0s4NnJwSWxPMXVLQVpN\n",
            "title: IMG-20191012-WA0010.jpg, id: 102OHb9hHI2NIX-g-F43MHos3jfK7OfZs\n",
            "title: IMG-20191012-WA0009.jpg, id: 1018HhOIfgQ72uW36skSwbLQniw3t9wSC\n",
            "title: IMG-20191012-WA0008.jpg, id: 10-mgy8mb1fsauyJQp6XNw9lKyguHgqHN\n",
            "title: IMG-20191012-WA0007.jpg, id: 1-ygLxZmVe7yb8kuORd5uW7_03sFBBmxz\n",
            "title: IMG-20191012-WA0006.jpg, id: 1-wWPqKaN2eJZKOk6E9t5ALXTxY6GAXqt\n",
            "title: IMG-20191012-WA0005.jpg, id: 1-dyy2njw1kBKvkCX_UrHWhSLGxWvTPSE\n",
            "title: IMG-20190609-WA0015.jpg, id: 1-bSR-XNvTf9tQqm_yD10hhYWFWJMFTHV\n",
            "title: IMG-20190609-WA0014.jpg, id: 1-MamE85Wj88Ri59c44jDmcHRNUZ3ys7K\n",
            "title: 3june2015, id: 0B-pje1FXgwdOaXVIbkdsUlQ1amM\n"
          ],
          "name": "stdout"
        }
      ]
    },
    {
      "cell_type": "code",
      "metadata": {
        "colab": {
          "base_uri": "https://localhost:8080/"
        },
        "id": "H8GSg9kiXe41",
        "outputId": "85782002-ab50-4e48-a61c-b7fd6b5cd59e"
      },
      "source": [
        "!unzip /content/drive/MyDrive/stacksample.zip"
      ],
      "execution_count": 6,
      "outputs": [
        {
          "output_type": "stream",
          "text": [
            "Archive:  /content/drive/MyDrive/stacksample.zip\n",
            "  inflating: Answers.csv             \n",
            "  inflating: Questions.csv           \n",
            "  inflating: Tags.csv                \n"
          ],
          "name": "stdout"
        }
      ]
    },
    {
      "cell_type": "code",
      "metadata": {
        "id": "RTTShFGhY7hn"
      },
      "source": [
        "import os"
      ],
      "execution_count": 12,
      "outputs": []
    },
    {
      "cell_type": "code",
      "metadata": {
        "colab": {
          "base_uri": "https://localhost:8080/"
        },
        "id": "gZSt6PUvZLMC",
        "outputId": "3a643509-9e8e-44d7-a993-88eed64678d2"
      },
      "source": [
        "\r\n",
        "os.listdir()"
      ],
      "execution_count": 13,
      "outputs": [
        {
          "output_type": "execute_result",
          "data": {
            "text/plain": [
              "['.config',\n",
              " 'Tags.csv',\n",
              " 'adc.json',\n",
              " 'Questions.csv',\n",
              " 'Answers.csv',\n",
              " 'drive',\n",
              " 'sample_data']"
            ]
          },
          "metadata": {
            "tags": []
          },
          "execution_count": 13
        }
      ]
    },
    {
      "cell_type": "code",
      "metadata": {
        "id": "sMKG9BT-ZNM0"
      },
      "source": [
        "\r\n",
        "import warnings\r\n",
        "warnings.filterwarnings('ignore')"
      ],
      "execution_count": 14,
      "outputs": []
    },
    {
      "cell_type": "code",
      "metadata": {
        "id": "zaOoGLngZPhP"
      },
      "source": [
        "import numpy as np\r\n",
        "import pandas as pd"
      ],
      "execution_count": 15,
      "outputs": []
    },
    {
      "cell_type": "code",
      "metadata": {
        "id": "C5O7URbDZR2Y"
      },
      "source": [
        "file=r'/content/Tags.csv'\r\n",
        "\r\n",
        "tags=pd.read_csv(file)"
      ],
      "execution_count": 16,
      "outputs": []
    },
    {
      "cell_type": "code",
      "metadata": {
        "colab": {
          "base_uri": "https://localhost:8080/",
          "height": 196
        },
        "id": "Iqb2-Pg9ZXCg",
        "outputId": "95f4e2c9-c961-48ed-d9ad-1b27c17dd9d8"
      },
      "source": [
        "\r\n",
        "tags.head()"
      ],
      "execution_count": 17,
      "outputs": [
        {
          "output_type": "execute_result",
          "data": {
            "text/html": [
              "<div>\n",
              "<style scoped>\n",
              "    .dataframe tbody tr th:only-of-type {\n",
              "        vertical-align: middle;\n",
              "    }\n",
              "\n",
              "    .dataframe tbody tr th {\n",
              "        vertical-align: top;\n",
              "    }\n",
              "\n",
              "    .dataframe thead th {\n",
              "        text-align: right;\n",
              "    }\n",
              "</style>\n",
              "<table border=\"1\" class=\"dataframe\">\n",
              "  <thead>\n",
              "    <tr style=\"text-align: right;\">\n",
              "      <th></th>\n",
              "      <th>Id</th>\n",
              "      <th>Tag</th>\n",
              "    </tr>\n",
              "  </thead>\n",
              "  <tbody>\n",
              "    <tr>\n",
              "      <th>0</th>\n",
              "      <td>80</td>\n",
              "      <td>flex</td>\n",
              "    </tr>\n",
              "    <tr>\n",
              "      <th>1</th>\n",
              "      <td>80</td>\n",
              "      <td>actionscript-3</td>\n",
              "    </tr>\n",
              "    <tr>\n",
              "      <th>2</th>\n",
              "      <td>80</td>\n",
              "      <td>air</td>\n",
              "    </tr>\n",
              "    <tr>\n",
              "      <th>3</th>\n",
              "      <td>90</td>\n",
              "      <td>svn</td>\n",
              "    </tr>\n",
              "    <tr>\n",
              "      <th>4</th>\n",
              "      <td>90</td>\n",
              "      <td>tortoisesvn</td>\n",
              "    </tr>\n",
              "  </tbody>\n",
              "</table>\n",
              "</div>"
            ],
            "text/plain": [
              "   Id             Tag\n",
              "0  80            flex\n",
              "1  80  actionscript-3\n",
              "2  80             air\n",
              "3  90             svn\n",
              "4  90     tortoisesvn"
            ]
          },
          "metadata": {
            "tags": []
          },
          "execution_count": 17
        }
      ]
    },
    {
      "cell_type": "code",
      "metadata": {
        "id": "55YgwdJsZZE-"
      },
      "source": [
        "file1=r'/content/Questions.csv'\r\n",
        "\r\n",
        "Questions=pd.read_csv(file1, encoding=\"ISO-8859-1\")"
      ],
      "execution_count": 18,
      "outputs": []
    },
    {
      "cell_type": "code",
      "metadata": {
        "colab": {
          "base_uri": "https://localhost:8080/",
          "height": 280
        },
        "id": "ljHg8Q6FZgtQ",
        "outputId": "434cb4f9-c078-4f2f-929a-6a6ee27b7425"
      },
      "source": [
        "Questions.head()"
      ],
      "execution_count": 19,
      "outputs": [
        {
          "output_type": "execute_result",
          "data": {
            "text/html": [
              "<div>\n",
              "<style scoped>\n",
              "    .dataframe tbody tr th:only-of-type {\n",
              "        vertical-align: middle;\n",
              "    }\n",
              "\n",
              "    .dataframe tbody tr th {\n",
              "        vertical-align: top;\n",
              "    }\n",
              "\n",
              "    .dataframe thead th {\n",
              "        text-align: right;\n",
              "    }\n",
              "</style>\n",
              "<table border=\"1\" class=\"dataframe\">\n",
              "  <thead>\n",
              "    <tr style=\"text-align: right;\">\n",
              "      <th></th>\n",
              "      <th>Id</th>\n",
              "      <th>OwnerUserId</th>\n",
              "      <th>CreationDate</th>\n",
              "      <th>ClosedDate</th>\n",
              "      <th>Score</th>\n",
              "      <th>Title</th>\n",
              "      <th>Body</th>\n",
              "    </tr>\n",
              "  </thead>\n",
              "  <tbody>\n",
              "    <tr>\n",
              "      <th>0</th>\n",
              "      <td>80</td>\n",
              "      <td>26.0</td>\n",
              "      <td>2008-08-01T13:57:07Z</td>\n",
              "      <td>NaN</td>\n",
              "      <td>26</td>\n",
              "      <td>SQLStatement.execute() - multiple queries in o...</td>\n",
              "      <td>&lt;p&gt;I've written a database generation script i...</td>\n",
              "    </tr>\n",
              "    <tr>\n",
              "      <th>1</th>\n",
              "      <td>90</td>\n",
              "      <td>58.0</td>\n",
              "      <td>2008-08-01T14:41:24Z</td>\n",
              "      <td>2012-12-26T03:45:49Z</td>\n",
              "      <td>144</td>\n",
              "      <td>Good branching and merging tutorials for Torto...</td>\n",
              "      <td>&lt;p&gt;Are there any really good tutorials explain...</td>\n",
              "    </tr>\n",
              "    <tr>\n",
              "      <th>2</th>\n",
              "      <td>120</td>\n",
              "      <td>83.0</td>\n",
              "      <td>2008-08-01T15:50:08Z</td>\n",
              "      <td>NaN</td>\n",
              "      <td>21</td>\n",
              "      <td>ASP.NET Site Maps</td>\n",
              "      <td>&lt;p&gt;Has anyone got experience creating &lt;strong&gt;...</td>\n",
              "    </tr>\n",
              "    <tr>\n",
              "      <th>3</th>\n",
              "      <td>180</td>\n",
              "      <td>2089740.0</td>\n",
              "      <td>2008-08-01T18:42:19Z</td>\n",
              "      <td>NaN</td>\n",
              "      <td>53</td>\n",
              "      <td>Function for creating color wheels</td>\n",
              "      <td>&lt;p&gt;This is something I've pseudo-solved many t...</td>\n",
              "    </tr>\n",
              "    <tr>\n",
              "      <th>4</th>\n",
              "      <td>260</td>\n",
              "      <td>91.0</td>\n",
              "      <td>2008-08-01T23:22:08Z</td>\n",
              "      <td>NaN</td>\n",
              "      <td>49</td>\n",
              "      <td>Adding scripting functionality to .NET applica...</td>\n",
              "      <td>&lt;p&gt;I have a little game written in C#. It uses...</td>\n",
              "    </tr>\n",
              "  </tbody>\n",
              "</table>\n",
              "</div>"
            ],
            "text/plain": [
              "    Id  ...                                               Body\n",
              "0   80  ...  <p>I've written a database generation script i...\n",
              "1   90  ...  <p>Are there any really good tutorials explain...\n",
              "2  120  ...  <p>Has anyone got experience creating <strong>...\n",
              "3  180  ...  <p>This is something I've pseudo-solved many t...\n",
              "4  260  ...  <p>I have a little game written in C#. It uses...\n",
              "\n",
              "[5 rows x 7 columns]"
            ]
          },
          "metadata": {
            "tags": []
          },
          "execution_count": 19
        }
      ]
    },
    {
      "cell_type": "code",
      "metadata": {
        "id": "Oxf61HkXZnNG"
      },
      "source": [
        "tags['Tag'] = tags['Tag'].astype(str)"
      ],
      "execution_count": 20,
      "outputs": []
    },
    {
      "cell_type": "code",
      "metadata": {
        "id": "1T2D1ZKiZpsH"
      },
      "source": [
        "\r\n",
        "tags_grouped=tags.groupby('Id')['Tag'].apply(lambda tags: ' '.join(tags))"
      ],
      "execution_count": 21,
      "outputs": []
    },
    {
      "cell_type": "code",
      "metadata": {
        "colab": {
          "base_uri": "https://localhost:8080/",
          "height": 404
        },
        "id": "ooyFVn7FZrsQ",
        "outputId": "1488526d-97b7-47bd-eb55-3260e5726559"
      },
      "source": [
        "\r\n",
        "tags_grouped.reset_index()"
      ],
      "execution_count": 22,
      "outputs": [
        {
          "output_type": "execute_result",
          "data": {
            "text/html": [
              "<div>\n",
              "<style scoped>\n",
              "    .dataframe tbody tr th:only-of-type {\n",
              "        vertical-align: middle;\n",
              "    }\n",
              "\n",
              "    .dataframe tbody tr th {\n",
              "        vertical-align: top;\n",
              "    }\n",
              "\n",
              "    .dataframe thead th {\n",
              "        text-align: right;\n",
              "    }\n",
              "</style>\n",
              "<table border=\"1\" class=\"dataframe\">\n",
              "  <thead>\n",
              "    <tr style=\"text-align: right;\">\n",
              "      <th></th>\n",
              "      <th>Id</th>\n",
              "      <th>Tag</th>\n",
              "    </tr>\n",
              "  </thead>\n",
              "  <tbody>\n",
              "    <tr>\n",
              "      <th>0</th>\n",
              "      <td>80</td>\n",
              "      <td>flex actionscript-3 air</td>\n",
              "    </tr>\n",
              "    <tr>\n",
              "      <th>1</th>\n",
              "      <td>90</td>\n",
              "      <td>svn tortoisesvn branch branching-and-merging</td>\n",
              "    </tr>\n",
              "    <tr>\n",
              "      <th>2</th>\n",
              "      <td>120</td>\n",
              "      <td>sql asp.net sitemap</td>\n",
              "    </tr>\n",
              "    <tr>\n",
              "      <th>3</th>\n",
              "      <td>180</td>\n",
              "      <td>algorithm language-agnostic colors color-space</td>\n",
              "    </tr>\n",
              "    <tr>\n",
              "      <th>4</th>\n",
              "      <td>260</td>\n",
              "      <td>c# .net scripting compiler-construction</td>\n",
              "    </tr>\n",
              "    <tr>\n",
              "      <th>...</th>\n",
              "      <td>...</td>\n",
              "      <td>...</td>\n",
              "    </tr>\n",
              "    <tr>\n",
              "      <th>1264211</th>\n",
              "      <td>40143210</td>\n",
              "      <td>php .htaccess</td>\n",
              "    </tr>\n",
              "    <tr>\n",
              "      <th>1264212</th>\n",
              "      <td>40143300</td>\n",
              "      <td>google-bigquery</td>\n",
              "    </tr>\n",
              "    <tr>\n",
              "      <th>1264213</th>\n",
              "      <td>40143340</td>\n",
              "      <td>android android-studio</td>\n",
              "    </tr>\n",
              "    <tr>\n",
              "      <th>1264214</th>\n",
              "      <td>40143360</td>\n",
              "      <td>javascript vue.js</td>\n",
              "    </tr>\n",
              "    <tr>\n",
              "      <th>1264215</th>\n",
              "      <td>40143380</td>\n",
              "      <td>npm mocha babel</td>\n",
              "    </tr>\n",
              "  </tbody>\n",
              "</table>\n",
              "<p>1264216 rows × 2 columns</p>\n",
              "</div>"
            ],
            "text/plain": [
              "               Id                                             Tag\n",
              "0              80                         flex actionscript-3 air\n",
              "1              90    svn tortoisesvn branch branching-and-merging\n",
              "2             120                             sql asp.net sitemap\n",
              "3             180  algorithm language-agnostic colors color-space\n",
              "4             260         c# .net scripting compiler-construction\n",
              "...           ...                                             ...\n",
              "1264211  40143210                                   php .htaccess\n",
              "1264212  40143300                                 google-bigquery\n",
              "1264213  40143340                          android android-studio\n",
              "1264214  40143360                               javascript vue.js\n",
              "1264215  40143380                                 npm mocha babel\n",
              "\n",
              "[1264216 rows x 2 columns]"
            ]
          },
          "metadata": {
            "tags": []
          },
          "execution_count": 22
        }
      ]
    },
    {
      "cell_type": "code",
      "metadata": {
        "id": "fZDaKF31ZyXV"
      },
      "source": [
        "tags_grouped_final=pd.DataFrame({'Id':tags_grouped.index, 'Tags':tags_grouped.values})"
      ],
      "execution_count": 23,
      "outputs": []
    },
    {
      "cell_type": "code",
      "metadata": {
        "colab": {
          "base_uri": "https://localhost:8080/",
          "height": 196
        },
        "id": "Yv9xNB_6Z1oI",
        "outputId": "da940dd9-12b6-46b3-81ae-ad02b47ca0f4"
      },
      "source": [
        "\r\n",
        "tags_grouped_final.head()"
      ],
      "execution_count": 24,
      "outputs": [
        {
          "output_type": "execute_result",
          "data": {
            "text/html": [
              "<div>\n",
              "<style scoped>\n",
              "    .dataframe tbody tr th:only-of-type {\n",
              "        vertical-align: middle;\n",
              "    }\n",
              "\n",
              "    .dataframe tbody tr th {\n",
              "        vertical-align: top;\n",
              "    }\n",
              "\n",
              "    .dataframe thead th {\n",
              "        text-align: right;\n",
              "    }\n",
              "</style>\n",
              "<table border=\"1\" class=\"dataframe\">\n",
              "  <thead>\n",
              "    <tr style=\"text-align: right;\">\n",
              "      <th></th>\n",
              "      <th>Id</th>\n",
              "      <th>Tags</th>\n",
              "    </tr>\n",
              "  </thead>\n",
              "  <tbody>\n",
              "    <tr>\n",
              "      <th>0</th>\n",
              "      <td>80</td>\n",
              "      <td>flex actionscript-3 air</td>\n",
              "    </tr>\n",
              "    <tr>\n",
              "      <th>1</th>\n",
              "      <td>90</td>\n",
              "      <td>svn tortoisesvn branch branching-and-merging</td>\n",
              "    </tr>\n",
              "    <tr>\n",
              "      <th>2</th>\n",
              "      <td>120</td>\n",
              "      <td>sql asp.net sitemap</td>\n",
              "    </tr>\n",
              "    <tr>\n",
              "      <th>3</th>\n",
              "      <td>180</td>\n",
              "      <td>algorithm language-agnostic colors color-space</td>\n",
              "    </tr>\n",
              "    <tr>\n",
              "      <th>4</th>\n",
              "      <td>260</td>\n",
              "      <td>c# .net scripting compiler-construction</td>\n",
              "    </tr>\n",
              "  </tbody>\n",
              "</table>\n",
              "</div>"
            ],
            "text/plain": [
              "    Id                                            Tags\n",
              "0   80                         flex actionscript-3 air\n",
              "1   90    svn tortoisesvn branch branching-and-merging\n",
              "2  120                             sql asp.net sitemap\n",
              "3  180  algorithm language-agnostic colors color-space\n",
              "4  260         c# .net scripting compiler-construction"
            ]
          },
          "metadata": {
            "tags": []
          },
          "execution_count": 24
        }
      ]
    },
    {
      "cell_type": "code",
      "metadata": {
        "id": "KBPnPB9iZ3L5"
      },
      "source": [
        "Questions.drop(columns=['OwnerUserId', 'CreationDate', 'ClosedDate'],inplace=True)"
      ],
      "execution_count": 25,
      "outputs": []
    },
    {
      "cell_type": "code",
      "metadata": {
        "id": "8tx2vrKQZ6AE"
      },
      "source": [
        "Questions=Questions.merge(tags_grouped_final,on='Id')"
      ],
      "execution_count": 26,
      "outputs": []
    },
    {
      "cell_type": "code",
      "metadata": {
        "colab": {
          "base_uri": "https://localhost:8080/",
          "height": 280
        },
        "id": "IbBYgXyhZ8eI",
        "outputId": "e20ece36-e9b6-44aa-f7bb-4ce4bc026497"
      },
      "source": [
        "Questions.head()"
      ],
      "execution_count": 27,
      "outputs": [
        {
          "output_type": "execute_result",
          "data": {
            "text/html": [
              "<div>\n",
              "<style scoped>\n",
              "    .dataframe tbody tr th:only-of-type {\n",
              "        vertical-align: middle;\n",
              "    }\n",
              "\n",
              "    .dataframe tbody tr th {\n",
              "        vertical-align: top;\n",
              "    }\n",
              "\n",
              "    .dataframe thead th {\n",
              "        text-align: right;\n",
              "    }\n",
              "</style>\n",
              "<table border=\"1\" class=\"dataframe\">\n",
              "  <thead>\n",
              "    <tr style=\"text-align: right;\">\n",
              "      <th></th>\n",
              "      <th>Id</th>\n",
              "      <th>Score</th>\n",
              "      <th>Title</th>\n",
              "      <th>Body</th>\n",
              "      <th>Tags</th>\n",
              "    </tr>\n",
              "  </thead>\n",
              "  <tbody>\n",
              "    <tr>\n",
              "      <th>0</th>\n",
              "      <td>80</td>\n",
              "      <td>26</td>\n",
              "      <td>SQLStatement.execute() - multiple queries in o...</td>\n",
              "      <td>&lt;p&gt;I've written a database generation script i...</td>\n",
              "      <td>flex actionscript-3 air</td>\n",
              "    </tr>\n",
              "    <tr>\n",
              "      <th>1</th>\n",
              "      <td>90</td>\n",
              "      <td>144</td>\n",
              "      <td>Good branching and merging tutorials for Torto...</td>\n",
              "      <td>&lt;p&gt;Are there any really good tutorials explain...</td>\n",
              "      <td>svn tortoisesvn branch branching-and-merging</td>\n",
              "    </tr>\n",
              "    <tr>\n",
              "      <th>2</th>\n",
              "      <td>120</td>\n",
              "      <td>21</td>\n",
              "      <td>ASP.NET Site Maps</td>\n",
              "      <td>&lt;p&gt;Has anyone got experience creating &lt;strong&gt;...</td>\n",
              "      <td>sql asp.net sitemap</td>\n",
              "    </tr>\n",
              "    <tr>\n",
              "      <th>3</th>\n",
              "      <td>180</td>\n",
              "      <td>53</td>\n",
              "      <td>Function for creating color wheels</td>\n",
              "      <td>&lt;p&gt;This is something I've pseudo-solved many t...</td>\n",
              "      <td>algorithm language-agnostic colors color-space</td>\n",
              "    </tr>\n",
              "    <tr>\n",
              "      <th>4</th>\n",
              "      <td>260</td>\n",
              "      <td>49</td>\n",
              "      <td>Adding scripting functionality to .NET applica...</td>\n",
              "      <td>&lt;p&gt;I have a little game written in C#. It uses...</td>\n",
              "      <td>c# .net scripting compiler-construction</td>\n",
              "    </tr>\n",
              "  </tbody>\n",
              "</table>\n",
              "</div>"
            ],
            "text/plain": [
              "    Id  ...                                            Tags\n",
              "0   80  ...                         flex actionscript-3 air\n",
              "1   90  ...    svn tortoisesvn branch branching-and-merging\n",
              "2  120  ...                             sql asp.net sitemap\n",
              "3  180  ...  algorithm language-agnostic colors color-space\n",
              "4  260  ...         c# .net scripting compiler-construction\n",
              "\n",
              "[5 rows x 5 columns]"
            ]
          },
          "metadata": {
            "tags": []
          },
          "execution_count": 27
        }
      ]
    },
    {
      "cell_type": "code",
      "metadata": {
        "id": "CWQH6qjNZ_sb"
      },
      "source": [
        "Question=Questions[Questions['Score']>5]"
      ],
      "execution_count": 28,
      "outputs": []
    },
    {
      "cell_type": "code",
      "metadata": {
        "colab": {
          "base_uri": "https://localhost:8080/"
        },
        "id": "uroGkMC-aC9k",
        "outputId": "188abb21-c81d-4f09-ad9c-b7dee40dc0ec"
      },
      "source": [
        "\r\n",
        "Question.isnull().sum()"
      ],
      "execution_count": 29,
      "outputs": [
        {
          "output_type": "execute_result",
          "data": {
            "text/plain": [
              "Id       0\n",
              "Score    0\n",
              "Title    0\n",
              "Body     0\n",
              "Tags     0\n",
              "dtype: int64"
            ]
          },
          "metadata": {
            "tags": []
          },
          "execution_count": 29
        }
      ]
    },
    {
      "cell_type": "code",
      "metadata": {
        "id": "AedeMXYnaFLD"
      },
      "source": [
        "Question.drop(columns=['Id','Score'],inplace=True)"
      ],
      "execution_count": 30,
      "outputs": []
    },
    {
      "cell_type": "code",
      "metadata": {
        "colab": {
          "base_uri": "https://localhost:8080/"
        },
        "id": "l4Zzno5qaJ9q",
        "outputId": "1b51a4de-4c38-4535-cd6a-054411a3d357"
      },
      "source": [
        "Question.shape"
      ],
      "execution_count": 32,
      "outputs": [
        {
          "output_type": "execute_result",
          "data": {
            "text/plain": [
              "(72950, 3)"
            ]
          },
          "metadata": {
            "tags": []
          },
          "execution_count": 32
        }
      ]
    },
    {
      "cell_type": "code",
      "metadata": {
        "id": "0apR0iPBaOTW"
      },
      "source": [
        "Question['Tags']=Question['Tags'].apply(lambda x: x.split())"
      ],
      "execution_count": 33,
      "outputs": []
    },
    {
      "cell_type": "code",
      "metadata": {
        "colab": {
          "base_uri": "https://localhost:8080/",
          "height": 246
        },
        "id": "zTpsQbzEaRKN",
        "outputId": "5c2c0e51-a263-44b2-b468-243f650b2335"
      },
      "source": [
        "Question.head()"
      ],
      "execution_count": 34,
      "outputs": [
        {
          "output_type": "execute_result",
          "data": {
            "text/html": [
              "<div>\n",
              "<style scoped>\n",
              "    .dataframe tbody tr th:only-of-type {\n",
              "        vertical-align: middle;\n",
              "    }\n",
              "\n",
              "    .dataframe tbody tr th {\n",
              "        vertical-align: top;\n",
              "    }\n",
              "\n",
              "    .dataframe thead th {\n",
              "        text-align: right;\n",
              "    }\n",
              "</style>\n",
              "<table border=\"1\" class=\"dataframe\">\n",
              "  <thead>\n",
              "    <tr style=\"text-align: right;\">\n",
              "      <th></th>\n",
              "      <th>Title</th>\n",
              "      <th>Body</th>\n",
              "      <th>Tags</th>\n",
              "    </tr>\n",
              "  </thead>\n",
              "  <tbody>\n",
              "    <tr>\n",
              "      <th>0</th>\n",
              "      <td>SQLStatement.execute() - multiple queries in o...</td>\n",
              "      <td>&lt;p&gt;I've written a database generation script i...</td>\n",
              "      <td>[flex, actionscript-3, air]</td>\n",
              "    </tr>\n",
              "    <tr>\n",
              "      <th>1</th>\n",
              "      <td>Good branching and merging tutorials for Torto...</td>\n",
              "      <td>&lt;p&gt;Are there any really good tutorials explain...</td>\n",
              "      <td>[svn, tortoisesvn, branch, branching-and-merging]</td>\n",
              "    </tr>\n",
              "    <tr>\n",
              "      <th>2</th>\n",
              "      <td>ASP.NET Site Maps</td>\n",
              "      <td>&lt;p&gt;Has anyone got experience creating &lt;strong&gt;...</td>\n",
              "      <td>[sql, asp.net, sitemap]</td>\n",
              "    </tr>\n",
              "    <tr>\n",
              "      <th>3</th>\n",
              "      <td>Function for creating color wheels</td>\n",
              "      <td>&lt;p&gt;This is something I've pseudo-solved many t...</td>\n",
              "      <td>[algorithm, language-agnostic, colors, color-s...</td>\n",
              "    </tr>\n",
              "    <tr>\n",
              "      <th>4</th>\n",
              "      <td>Adding scripting functionality to .NET applica...</td>\n",
              "      <td>&lt;p&gt;I have a little game written in C#. It uses...</td>\n",
              "      <td>[c#, .net, scripting, compiler-construction]</td>\n",
              "    </tr>\n",
              "  </tbody>\n",
              "</table>\n",
              "</div>"
            ],
            "text/plain": [
              "                                               Title  ...                                               Tags\n",
              "0  SQLStatement.execute() - multiple queries in o...  ...                        [flex, actionscript-3, air]\n",
              "1  Good branching and merging tutorials for Torto...  ...  [svn, tortoisesvn, branch, branching-and-merging]\n",
              "2                                  ASP.NET Site Maps  ...                            [sql, asp.net, sitemap]\n",
              "3                 Function for creating color wheels  ...  [algorithm, language-agnostic, colors, color-s...\n",
              "4  Adding scripting functionality to .NET applica...  ...       [c#, .net, scripting, compiler-construction]\n",
              "\n",
              "[5 rows x 3 columns]"
            ]
          },
          "metadata": {
            "tags": []
          },
          "execution_count": 34
        }
      ]
    },
    {
      "cell_type": "code",
      "metadata": {
        "id": "FoCiIKXkaTC4"
      },
      "source": [
        "all_tags = [item for sublist in Question['Tags'].values for item in sublist]"
      ],
      "execution_count": 35,
      "outputs": []
    },
    {
      "cell_type": "code",
      "metadata": {
        "colab": {
          "base_uri": "https://localhost:8080/"
        },
        "id": "UI1IQeEyaVJ5",
        "outputId": "7e06b7cd-05fa-4858-9150-37a42cddf60c"
      },
      "source": [
        "len(all_tags)"
      ],
      "execution_count": 36,
      "outputs": [
        {
          "output_type": "execute_result",
          "data": {
            "text/plain": [
              "224129"
            ]
          },
          "metadata": {
            "tags": []
          },
          "execution_count": 36
        }
      ]
    },
    {
      "cell_type": "code",
      "metadata": {
        "colab": {
          "base_uri": "https://localhost:8080/"
        },
        "id": "7jOS5TO-aXbp",
        "outputId": "a86e8962-20ef-4e98-dcdc-61743c08db5f"
      },
      "source": [
        "my_set = set(all_tags)\r\n",
        "unique_tags = list(my_set)\r\n",
        "len(unique_tags)"
      ],
      "execution_count": 37,
      "outputs": [
        {
          "output_type": "execute_result",
          "data": {
            "text/plain": [
              "14883"
            ]
          },
          "metadata": {
            "tags": []
          },
          "execution_count": 37
        }
      ]
    },
    {
      "cell_type": "code",
      "metadata": {
        "id": "7IKPn0yOaaeC"
      },
      "source": [
        "import nltk"
      ],
      "execution_count": 38,
      "outputs": []
    },
    {
      "cell_type": "code",
      "metadata": {
        "id": "18aFjhDCac1V"
      },
      "source": [
        "flat_list = [item for sublist in Question['Tags'].values for item in sublist]\r\n",
        "\r\n",
        "keywords = nltk.FreqDist(flat_list)\r\n",
        "\r\n",
        "keywords = nltk.FreqDist(keywords)\r\n",
        "\r\n",
        "frequencies_words = keywords.most_common(100)\r\n",
        "tags_features = [word[0] for word in frequencies_words]"
      ],
      "execution_count": 39,
      "outputs": []
    },
    {
      "cell_type": "code",
      "metadata": {
        "id": "eZaPHvRIafGI"
      },
      "source": [
        "def most_common(tags):\r\n",
        "    tags_filtered = []\r\n",
        "    for i in range(0, len(tags)):\r\n",
        "        if tags[i] in tags_features:\r\n",
        "            tags_filtered.append(tags[i])\r\n",
        "    return tags_filtered"
      ],
      "execution_count": 40,
      "outputs": []
    },
    {
      "cell_type": "code",
      "metadata": {
        "id": "-Jswo0vbah1q"
      },
      "source": [
        "Question['Tags'] = Question['Tags'].apply(lambda x: most_common(x))\r\n",
        "Question['Tags'] = Question['Tags'].apply(lambda x: x if len(x)>0 else None)"
      ],
      "execution_count": 41,
      "outputs": []
    },
    {
      "cell_type": "code",
      "metadata": {
        "colab": {
          "base_uri": "https://localhost:8080/"
        },
        "id": "AyC1zl97anSz",
        "outputId": "30a953f1-b6b9-458a-84a1-c9b3612916b0"
      },
      "source": [
        "Question.shape"
      ],
      "execution_count": 42,
      "outputs": [
        {
          "output_type": "execute_result",
          "data": {
            "text/plain": [
              "(72950, 3)"
            ]
          },
          "metadata": {
            "tags": []
          },
          "execution_count": 42
        }
      ]
    },
    {
      "cell_type": "code",
      "metadata": {
        "id": "7JKZQN99apqf"
      },
      "source": [
        "Question.dropna(subset=['Tags'], inplace=True)"
      ],
      "execution_count": 43,
      "outputs": []
    },
    {
      "cell_type": "code",
      "metadata": {
        "colab": {
          "base_uri": "https://localhost:8080/"
        },
        "id": "iKSAK2p-auDd",
        "outputId": "83c0ac0d-c4b3-4b3d-967e-1e0ce508b240"
      },
      "source": [
        "Question.shape"
      ],
      "execution_count": 44,
      "outputs": [
        {
          "output_type": "execute_result",
          "data": {
            "text/plain": [
              "(63167, 3)"
            ]
          },
          "metadata": {
            "tags": []
          },
          "execution_count": 44
        }
      ]
    },
    {
      "cell_type": "code",
      "metadata": {
        "id": "X-puqs-gawh9"
      },
      "source": [
        "from bs4 import BeautifulSoup"
      ],
      "execution_count": 45,
      "outputs": []
    },
    {
      "cell_type": "code",
      "metadata": {
        "id": "1ZcLCjFHayxS"
      },
      "source": [
        "Question['Body']=Question['Body'].apply(lambda x : BeautifulSoup(x).get_text())"
      ],
      "execution_count": 46,
      "outputs": []
    },
    {
      "cell_type": "code",
      "metadata": {
        "colab": {
          "base_uri": "https://localhost:8080/",
          "height": 196
        },
        "id": "R2BtSa_ga2M2",
        "outputId": "994ecd1d-0fc6-44e6-be8d-467c35f13492"
      },
      "source": [
        "Question.head()"
      ],
      "execution_count": 47,
      "outputs": [
        {
          "output_type": "execute_result",
          "data": {
            "text/html": [
              "<div>\n",
              "<style scoped>\n",
              "    .dataframe tbody tr th:only-of-type {\n",
              "        vertical-align: middle;\n",
              "    }\n",
              "\n",
              "    .dataframe tbody tr th {\n",
              "        vertical-align: top;\n",
              "    }\n",
              "\n",
              "    .dataframe thead th {\n",
              "        text-align: right;\n",
              "    }\n",
              "</style>\n",
              "<table border=\"1\" class=\"dataframe\">\n",
              "  <thead>\n",
              "    <tr style=\"text-align: right;\">\n",
              "      <th></th>\n",
              "      <th>Title</th>\n",
              "      <th>Body</th>\n",
              "      <th>Tags</th>\n",
              "    </tr>\n",
              "  </thead>\n",
              "  <tbody>\n",
              "    <tr>\n",
              "      <th>1</th>\n",
              "      <td>Good branching and merging tutorials for Torto...</td>\n",
              "      <td>Are there any really good tutorials explaining...</td>\n",
              "      <td>[svn]</td>\n",
              "    </tr>\n",
              "    <tr>\n",
              "      <th>2</th>\n",
              "      <td>ASP.NET Site Maps</td>\n",
              "      <td>Has anyone got experience creating SQL-based A...</td>\n",
              "      <td>[sql, asp.net]</td>\n",
              "    </tr>\n",
              "    <tr>\n",
              "      <th>3</th>\n",
              "      <td>Function for creating color wheels</td>\n",
              "      <td>This is something I've pseudo-solved many time...</td>\n",
              "      <td>[algorithm]</td>\n",
              "    </tr>\n",
              "    <tr>\n",
              "      <th>4</th>\n",
              "      <td>Adding scripting functionality to .NET applica...</td>\n",
              "      <td>I have a little game written in C#. It uses a ...</td>\n",
              "      <td>[c#, .net]</td>\n",
              "    </tr>\n",
              "    <tr>\n",
              "      <th>5</th>\n",
              "      <td>Should I use nested classes in this case?</td>\n",
              "      <td>I am working on a collection of classes used f...</td>\n",
              "      <td>[c++, oop, class]</td>\n",
              "    </tr>\n",
              "  </tbody>\n",
              "</table>\n",
              "</div>"
            ],
            "text/plain": [
              "                                               Title  ...               Tags\n",
              "1  Good branching and merging tutorials for Torto...  ...              [svn]\n",
              "2                                  ASP.NET Site Maps  ...     [sql, asp.net]\n",
              "3                 Function for creating color wheels  ...        [algorithm]\n",
              "4  Adding scripting functionality to .NET applica...  ...         [c#, .net]\n",
              "5          Should I use nested classes in this case?  ...  [c++, oop, class]\n",
              "\n",
              "[5 rows x 3 columns]"
            ]
          },
          "metadata": {
            "tags": []
          },
          "execution_count": 47
        }
      ]
    },
    {
      "cell_type": "code",
      "metadata": {
        "colab": {
          "base_uri": "https://localhost:8080/",
          "height": 153
        },
        "id": "EEKtaMZ3a8bA",
        "outputId": "d59af5e7-3cf3-4063-df31-437769ef2f88"
      },
      "source": [
        "\r\n",
        "Question['Body'].iloc[3]"
      ],
      "execution_count": 48,
      "outputs": [
        {
          "output_type": "execute_result",
          "data": {
            "application/vnd.google.colaboratory.intrinsic+json": {
              "type": "string"
            },
            "text/plain": [
              "\"I have a little game written in C#. It uses a database as back-end. It's \\na trading card game, and I wanted to implement the function of the cards as a script.\\nWhat I mean is that I essentially have an interface, ICard, which a card class implements (public class Card056 : ICard) and which contains function that are called by the game.\\nNow, to make the thing maintainable/moddable, I would like to have the class for each card as source code in the database and essentially compile it on first use. So when I have to add/change a card, I'll just add it to the database and tell my application to refresh, without needing any assembly deployment (especially since we would be talking about 1 assembly per card which means hundreds of assemblies).\\nIs that possible? Register a class from a source file and then instantiate it, etc.\\nICard Cards[current] = new MyGame.CardLibrary.Card056();\\nCards[current].OnEnterPlay(ref currentGameState);\\n\\nThe language is C#, but extra bonus if it's possible to write the script in any .NET language.\\n\""
            ]
          },
          "metadata": {
            "tags": []
          },
          "execution_count": 48
        }
      ]
    },
    {
      "cell_type": "code",
      "metadata": {
        "id": "ryZz-imBa_AA"
      },
      "source": [
        "from nltk.stem.wordnet import WordNetLemmatizer\r\n",
        "from nltk.corpus import stopwords\r\n",
        "from string import punctuation\r\n",
        "from nltk.tokenize import ToktokTokenizer"
      ],
      "execution_count": 49,
      "outputs": []
    },
    {
      "cell_type": "code",
      "metadata": {
        "colab": {
          "base_uri": "https://localhost:8080/"
        },
        "id": "e7PyHM45bCCf",
        "outputId": "75dcb314-4513-4540-99cd-8a8392d9104a"
      },
      "source": [
        "\r\n",
        "import nltk\r\n",
        "nltk.download('punkt')"
      ],
      "execution_count": 50,
      "outputs": [
        {
          "output_type": "stream",
          "text": [
            "[nltk_data] Downloading package punkt to /root/nltk_data...\n",
            "[nltk_data]   Unzipping tokenizers/punkt.zip.\n"
          ],
          "name": "stdout"
        },
        {
          "output_type": "execute_result",
          "data": {
            "text/plain": [
              "True"
            ]
          },
          "metadata": {
            "tags": []
          },
          "execution_count": 50
        }
      ]
    },
    {
      "cell_type": "code",
      "metadata": {
        "colab": {
          "base_uri": "https://localhost:8080/"
        },
        "id": "OXRjR0UCbGln",
        "outputId": "4d85fedb-41b3-4f9c-e9d0-273d8053596c"
      },
      "source": [
        "\r\n",
        "import nltk\r\n",
        "nltk.download('wordnet')"
      ],
      "execution_count": 51,
      "outputs": [
        {
          "output_type": "stream",
          "text": [
            "[nltk_data] Downloading package wordnet to /root/nltk_data...\n",
            "[nltk_data]   Unzipping corpora/wordnet.zip.\n"
          ],
          "name": "stdout"
        },
        {
          "output_type": "execute_result",
          "data": {
            "text/plain": [
              "True"
            ]
          },
          "metadata": {
            "tags": []
          },
          "execution_count": 51
        }
      ]
    },
    {
      "cell_type": "code",
      "metadata": {
        "colab": {
          "base_uri": "https://localhost:8080/"
        },
        "id": "Idh_V58_bJNP",
        "outputId": "bcb26d29-72d4-42b7-c79e-d85c2ac1613a"
      },
      "source": [
        "\r\n",
        "import nltk\r\n",
        "nltk.download('punkt')"
      ],
      "execution_count": 52,
      "outputs": [
        {
          "output_type": "stream",
          "text": [
            "[nltk_data] Downloading package punkt to /root/nltk_data...\n",
            "[nltk_data]   Package punkt is already up-to-date!\n"
          ],
          "name": "stdout"
        },
        {
          "output_type": "execute_result",
          "data": {
            "text/plain": [
              "True"
            ]
          },
          "metadata": {
            "tags": []
          },
          "execution_count": 52
        }
      ]
    },
    {
      "cell_type": "code",
      "metadata": {
        "colab": {
          "base_uri": "https://localhost:8080/"
        },
        "id": "_rvCORn1bOrX",
        "outputId": "efe25763-5ddf-4c84-ed56-9c2eab429229"
      },
      "source": [
        "import nltk\r\n",
        "nltk.download('stopwords')"
      ],
      "execution_count": 54,
      "outputs": [
        {
          "output_type": "stream",
          "text": [
            "[nltk_data] Downloading package stopwords to /root/nltk_data...\n",
            "[nltk_data]   Package stopwords is already up-to-date!\n"
          ],
          "name": "stdout"
        },
        {
          "output_type": "execute_result",
          "data": {
            "text/plain": [
              "True"
            ]
          },
          "metadata": {
            "tags": []
          },
          "execution_count": 54
        }
      ]
    },
    {
      "cell_type": "code",
      "metadata": {
        "id": "T45YFhnUbSii"
      },
      "source": [
        "token=ToktokTokenizer()"
      ],
      "execution_count": 55,
      "outputs": []
    },
    {
      "cell_type": "code",
      "metadata": {
        "id": "wTgjfSLbbWo_"
      },
      "source": [
        "\r\n",
        "import re"
      ],
      "execution_count": 56,
      "outputs": []
    },
    {
      "cell_type": "code",
      "metadata": {
        "colab": {
          "base_uri": "https://localhost:8080/",
          "height": 35
        },
        "id": "uV0djh3DbYzv",
        "outputId": "3e74ec23-8b20-4a23-d81f-0b4715558106"
      },
      "source": [
        "punctuation\r\n"
      ],
      "execution_count": 57,
      "outputs": [
        {
          "output_type": "execute_result",
          "data": {
            "application/vnd.google.colaboratory.intrinsic+json": {
              "type": "string"
            },
            "text/plain": [
              "'!\"#$%&\\'()*+,-./:;<=>?@[\\\\]^_`{|}~'"
            ]
          },
          "metadata": {
            "tags": []
          },
          "execution_count": 57
        }
      ]
    },
    {
      "cell_type": "code",
      "metadata": {
        "id": "ZDJfpCfCbenT"
      },
      "source": [
        "punct = '!#$%&\\'()*+,./:;<=>?@[\\\\]^_{|}~'"
      ],
      "execution_count": 58,
      "outputs": []
    },
    {
      "cell_type": "code",
      "metadata": {
        "id": "CgHS6M-ebgo8"
      },
      "source": [
        "\r\n",
        "def strip_list_noempty(mylist):\r\n",
        "    newlist = (item.strip() if hasattr(item, 'strip') else item for item in mylist)\r\n",
        "    return [item for item in newlist if item != '']"
      ],
      "execution_count": 59,
      "outputs": []
    },
    {
      "cell_type": "code",
      "metadata": {
        "id": "pIpgztyQbjYa"
      },
      "source": [
        "def clean_punct(text): \r\n",
        "    words=token.tokenize(text)\r\n",
        "    punctuation_filtered = []\r\n",
        "    regex = re.compile('[%s]' % re.escape(punct))\r\n",
        "    remove_punctuation = str.maketrans(' ', ' ', punct)\r\n",
        "    for w in words:\r\n",
        "        if w in tags_features:\r\n",
        "            punctuation_filtered.append(w)\r\n",
        "        else:\r\n",
        "            punctuation_filtered.append(regex.sub('', w))\r\n",
        "  \r\n",
        "    filtered_list = strip_list_noempty(punctuation_filtered)\r\n",
        "        \r\n",
        "    return ' '.join(map(str, filtered_list))"
      ],
      "execution_count": 60,
      "outputs": []
    },
    {
      "cell_type": "code",
      "metadata": {
        "id": "oDzHarKfbnkj"
      },
      "source": [
        "\r\n",
        "Question['Body'] = Question['Body'].apply(lambda x: clean_punct(x))"
      ],
      "execution_count": 61,
      "outputs": []
    },
    {
      "cell_type": "code",
      "metadata": {
        "id": "pOYWc57GbpgA"
      },
      "source": [
        "lemma=WordNetLemmatizer()\r\n",
        "stop_words = set(stopwords.words(\"english\"))"
      ],
      "execution_count": 62,
      "outputs": []
    },
    {
      "cell_type": "code",
      "metadata": {
        "id": "tPXYpgRSbvw6"
      },
      "source": [
        "def lemitizeWords(text):\r\n",
        "    words=token.tokenize(text)\r\n",
        "    listLemma=[]\r\n",
        "    for w in words:\r\n",
        "        x=lemma.lemmatize(w, pos=\"v\")\r\n",
        "        listLemma.append(x)\r\n",
        "    return ' '.join(map(str, listLemma))\r\n",
        "\r\n",
        "def stopWordsRemove(text):\r\n",
        "    \r\n",
        "    stop_words = set(stopwords.words(\"english\"))\r\n",
        "    \r\n",
        "    words=token.tokenize(text)\r\n",
        "    \r\n",
        "    filtered = [w for w in words if not w in stop_words]\r\n",
        "    \r\n",
        "    return ' '.join(map(str, filtered))"
      ],
      "execution_count": 63,
      "outputs": []
    },
    {
      "cell_type": "code",
      "metadata": {
        "id": "N-s_jurcbv5j"
      },
      "source": [
        "Question['Body'] = Question['Body'].apply(lambda x: lemitizeWords(x)) \r\n",
        "Question['Body'] = Question['Body'].apply(lambda x: stopWordsRemove(x))"
      ],
      "execution_count": 64,
      "outputs": []
    },
    {
      "cell_type": "code",
      "metadata": {
        "id": "eWATR-F1bv98"
      },
      "source": [
        "\r\n",
        "Question['Title'] = Question['Title'].apply(lambda x: clean_punct(x)) \r\n",
        "Question['Title'] = Question['Title'].apply(lambda x: lemitizeWords(x)) \r\n",
        "Question['Title'] = Question['Title'].apply(lambda x: stopWordsRemove(x))"
      ],
      "execution_count": 65,
      "outputs": []
    },
    {
      "cell_type": "code",
      "metadata": {
        "colab": {
          "base_uri": "https://localhost:8080/",
          "height": 52
        },
        "id": "ZNQVKU21cAVb",
        "outputId": "c597e9e3-6f61-4267-ce94-ddfc4f6eb355"
      },
      "source": [
        "\r\n",
        "Question['Body'].iloc[2]"
      ],
      "execution_count": 66,
      "outputs": [
        {
          "output_type": "execute_result",
          "data": {
            "application/vnd.google.colaboratory.intrinsic+json": {
              "type": "string"
            },
            "text/plain": [
              "'This something I pseudo-solved many time never quite find solution That stick The problem come way generate N color distinguishable possible N parameter'"
            ]
          },
          "metadata": {
            "tags": []
          },
          "execution_count": 66
        }
      ]
    },
    {
      "cell_type": "code",
      "metadata": {
        "id": "NCcx0FjLcAew"
      },
      "source": [
        "Question['Title_Body']=Question['Title']+' '+ Question['Body']"
      ],
      "execution_count": 67,
      "outputs": []
    },
    {
      "cell_type": "code",
      "metadata": {
        "colab": {
          "base_uri": "https://localhost:8080/",
          "height": 135
        },
        "id": "kSp1GUancAh6",
        "outputId": "8a2b6bbd-9e9a-4d89-f368-824dbed663e8"
      },
      "source": [
        "Question.iloc[3,3]"
      ],
      "execution_count": 68,
      "outputs": [
        {
          "output_type": "execute_result",
          "data": {
            "application/vnd.google.colaboratory.intrinsic+json": {
              "type": "string"
            },
            "text/plain": [
              "'Adding script functionality NET applications I little game write C It use database back-end It trade card game I want implement function card script What I mean I essentially interface ICard card class implement public class Card056 ICard contain function call game Now make thing maintainablemoddable I would like class card source code database essentially compile first use So I addchange card I add database tell application refresh without need assembly deployment especially since would talk 1 assembly per card mean hundreds assemblies Is possible Register class source file instantiate etc ICard Cards current new MyGameCardLibraryCard056 Cards current OnEnterPlay ref currentGameState The language C extra bonus possible write script NET language'"
            ]
          },
          "metadata": {
            "tags": []
          },
          "execution_count": 68
        }
      ]
    },
    {
      "cell_type": "code",
      "metadata": {
        "colab": {
          "base_uri": "https://localhost:8080/"
        },
        "id": "JLbhIxx4cJ6R",
        "outputId": "f286094f-4d4a-4fc1-89fd-da93aef86d36"
      },
      "source": [
        "from sklearn.preprocessing import MultiLabelBinarizer\r\n",
        "tag_encoder = MultiLabelBinarizer()\r\n",
        "tags_encoded = tag_encoder.fit_transform(Question['Tags'])\r\n",
        "\r\n",
        "tags_encoded.shape"
      ],
      "execution_count": 69,
      "outputs": [
        {
          "output_type": "execute_result",
          "data": {
            "text/plain": [
              "(63167, 100)"
            ]
          },
          "metadata": {
            "tags": []
          },
          "execution_count": 69
        }
      ]
    },
    {
      "cell_type": "code",
      "metadata": {
        "id": "uOjipLZicKDh"
      },
      "source": [
        "from sklearn.model_selection import train_test_split\r\n",
        "X_train, X_test, y_train, y_test = train_test_split(Question['Title_Body'], tags_encoded, test_size=0.2, random_state=42)"
      ],
      "execution_count": 70,
      "outputs": []
    },
    {
      "cell_type": "code",
      "metadata": {
        "id": "OzdUZJ7ycKGZ"
      },
      "source": [
        "from keras.layers import LSTM, Activation, Dense, Dropout, Input, Embedding\r\n",
        "from keras.models import Model\r\n",
        "from keras.preprocessing.text import Tokenizer\r\n",
        "from keras.preprocessing import sequence\r\n",
        "from nltk import word_tokenize"
      ],
      "execution_count": 71,
      "outputs": []
    },
    {
      "cell_type": "code",
      "metadata": {
        "id": "UEa9I_x0cKI7"
      },
      "source": [
        "sent_lens=[]\r\n",
        "for sent in X_train:\r\n",
        "    sent_lens.append(len(word_tokenize(sent)))"
      ],
      "execution_count": 72,
      "outputs": []
    },
    {
      "cell_type": "code",
      "metadata": {
        "colab": {
          "base_uri": "https://localhost:8080/"
        },
        "id": "_ZpR4nq6cZN-",
        "outputId": "fbb02c98-cc95-4866-af75-ee712045b42d"
      },
      "source": [
        "max(sent_lens)"
      ],
      "execution_count": 73,
      "outputs": [
        {
          "output_type": "execute_result",
          "data": {
            "text/plain": [
              "3370"
            ]
          },
          "metadata": {
            "tags": []
          },
          "execution_count": 73
        }
      ]
    },
    {
      "cell_type": "code",
      "metadata": {
        "colab": {
          "base_uri": "https://localhost:8080/"
        },
        "id": "hm9h75W1cbBU",
        "outputId": "a196e606-2943-484c-948e-154d04c26790"
      },
      "source": [
        "np.quantile(sent_lens,0.95)"
      ],
      "execution_count": 74,
      "outputs": [
        {
          "output_type": "execute_result",
          "data": {
            "text/plain": [
              "306.0"
            ]
          },
          "metadata": {
            "tags": []
          },
          "execution_count": 74
        }
      ]
    },
    {
      "cell_type": "code",
      "metadata": {
        "colab": {
          "base_uri": "https://localhost:8080/"
        },
        "id": "i8nlegA0cdp-",
        "outputId": "4b45e067-686a-48cf-b284-77eb1ef9dba5"
      },
      "source": [
        "# Word2Vec\r\n",
        "import gensim\r\n",
        "\r\n",
        "# WORD2VEC \r\n",
        "W2V_SIZE = 300\r\n",
        "W2V_WINDOW = 7\r\n",
        "W2V_EPOCH = 32\r\n",
        "W2V_MIN_COUNT = 10\r\n",
        "\r\n",
        "# Collect corpus for training word embeddings\r\n",
        "documents = [_text.split() for _text in np.array(Question['Title_Body'])]  # I used the entire corpus for training, because it contains the entire conversation of related to a user's posts\r\n",
        "\r\n",
        "\r\n",
        "# Train Word Embeddings and save\r\n",
        "w2v_model = gensim.models.word2vec.Word2Vec(size=W2V_SIZE, \r\n",
        "                                            window=W2V_WINDOW, \r\n",
        "                                            min_count=W2V_MIN_COUNT, \r\n",
        "                                            workers=8)\r\n",
        "w2v_model.build_vocab(documents)\r\n",
        "words = w2v_model.wv.vocab.keys()\r\n",
        "vocab_size = len(words)\r\n",
        "print(\"Vocab size\", vocab_size)\r\n",
        "# Train Word Embeddings\r\n",
        "w2v_model.train(documents, total_examples=len(documents), epochs=W2V_EPOCH)\r\n",
        "w2v_model.save('SO_word2vec_embeddings.bin')"
      ],
      "execution_count": 75,
      "outputs": [
        {
          "output_type": "stream",
          "text": [
            "Vocab size 29278\n"
          ],
          "name": "stdout"
        }
      ]
    },
    {
      "cell_type": "code",
      "metadata": {
        "id": "nhClQYwYch_O"
      },
      "source": [
        "from keras.preprocessing.text import Tokenizer\r\n",
        "from keras.preprocessing.sequence import pad_sequences"
      ],
      "execution_count": 76,
      "outputs": []
    },
    {
      "cell_type": "code",
      "metadata": {
        "colab": {
          "base_uri": "https://localhost:8080/"
        },
        "id": "9i3Bnc7acmaN",
        "outputId": "da310339-767e-4953-f699-5692631f8aad"
      },
      "source": [
        "MAX_SEQUENCE_LENGTH = 300\r\n",
        "# This is fixed.\r\n",
        "EMBEDDING_DIM = 300\r\n",
        "\r\n",
        "tokenizer = Tokenizer()\r\n",
        "tokenizer.fit_on_texts(Question['Title_Body'])\r\n",
        "word_index = tokenizer.word_index\r\n",
        "vocab_size = len(word_index)\r\n",
        "print('Found %s unique tokens.' % len(word_index))\r\n",
        "\r\n",
        "\r\n",
        "# Convert the data to padded sequences\r\n",
        "X_train_padded = tokenizer.texts_to_sequences(X_train)\r\n",
        "X_train_padded = pad_sequences(X_train_padded, maxlen=MAX_SEQUENCE_LENGTH)\r\n",
        "\r\n",
        "\r\n",
        "# Embedding matrix for the embedding layer\r\n",
        "embedding_matrix = np.zeros((vocab_size+1, W2V_SIZE))\r\n",
        "for word, i in tokenizer.word_index.items():\r\n",
        "    if word in w2v_model.wv:\r\n",
        "        embedding_matrix[i] = w2v_model.wv[word]\r\n",
        "print(embedding_matrix.shape)"
      ],
      "execution_count": 77,
      "outputs": [
        {
          "output_type": "stream",
          "text": [
            "Found 375146 unique tokens.\n",
            "(375147, 300)\n"
          ],
          "name": "stdout"
        }
      ]
    },
    {
      "cell_type": "code",
      "metadata": {
        "colab": {
          "base_uri": "https://localhost:8080/"
        },
        "id": "yWmBR2fNcp8g",
        "outputId": "225b2441-0425-4997-a570-706ea9c046b2"
      },
      "source": [
        "def RNN():\r\n",
        "    inputs = Input(name='inputs',shape=[MAX_SEQUENCE_LENGTH])\r\n",
        "    layer = Embedding(vocab_size+1, W2V_SIZE, weights=[embedding_matrix], input_length=MAX_SEQUENCE_LENGTH, trainable=False)(inputs)\r\n",
        "    layer = LSTM(100)(layer)\r\n",
        "    layer = Dense(1000,name='FC1')(layer)\r\n",
        "    layer = Activation('relu')(layer)\r\n",
        "    layer = Dropout(0.35)(layer)\r\n",
        "    layer = Dense(700,name='FC2')(layer)\r\n",
        "    layer = Activation('relu')(layer)\r\n",
        "    layer = Dropout(0.25)(layer)\r\n",
        "    layer = Dense(400,name='FC3')(layer)\r\n",
        "    layer = Activation('relu')(layer)\r\n",
        "    layer = Dropout(0.5)(layer)\r\n",
        "    layer = Dense(100,name='out_layer')(layer)\r\n",
        "    layer = Activation('softmax')(layer)\r\n",
        "    model = Model(inputs=inputs,outputs=layer)\r\n",
        "    return model\r\n",
        "  \r\n",
        "  \r\n",
        "model = RNN()\r\n",
        "model.compile(optimizer='adam', loss='binary_crossentropy', metrics=['accuracy'])\r\n",
        "model.summary()"
      ],
      "execution_count": 78,
      "outputs": [
        {
          "output_type": "stream",
          "text": [
            "Model: \"model\"\n",
            "_________________________________________________________________\n",
            "Layer (type)                 Output Shape              Param #   \n",
            "=================================================================\n",
            "inputs (InputLayer)          [(None, 300)]             0         \n",
            "_________________________________________________________________\n",
            "embedding (Embedding)        (None, 300, 300)          112544100 \n",
            "_________________________________________________________________\n",
            "lstm (LSTM)                  (None, 100)               160400    \n",
            "_________________________________________________________________\n",
            "FC1 (Dense)                  (None, 1000)              101000    \n",
            "_________________________________________________________________\n",
            "activation (Activation)      (None, 1000)              0         \n",
            "_________________________________________________________________\n",
            "dropout (Dropout)            (None, 1000)              0         \n",
            "_________________________________________________________________\n",
            "FC2 (Dense)                  (None, 700)               700700    \n",
            "_________________________________________________________________\n",
            "activation_1 (Activation)    (None, 700)               0         \n",
            "_________________________________________________________________\n",
            "dropout_1 (Dropout)          (None, 700)               0         \n",
            "_________________________________________________________________\n",
            "FC3 (Dense)                  (None, 400)               280400    \n",
            "_________________________________________________________________\n",
            "activation_2 (Activation)    (None, 400)               0         \n",
            "_________________________________________________________________\n",
            "dropout_2 (Dropout)          (None, 400)               0         \n",
            "_________________________________________________________________\n",
            "out_layer (Dense)            (None, 100)               40100     \n",
            "_________________________________________________________________\n",
            "activation_3 (Activation)    (None, 100)               0         \n",
            "=================================================================\n",
            "Total params: 113,826,700\n",
            "Trainable params: 1,282,600\n",
            "Non-trainable params: 112,544,100\n",
            "_________________________________________________________________\n"
          ],
          "name": "stdout"
        }
      ]
    },
    {
      "cell_type": "code",
      "metadata": {
        "id": "kXz0RpV3cwJW"
      },
      "source": [
        "X_test_padded = tokenizer.texts_to_sequences(X_test)\r\n",
        "X_test_padded = pad_sequences(X_test_padded, maxlen=MAX_SEQUENCE_LENGTH)"
      ],
      "execution_count": 79,
      "outputs": []
    },
    {
      "cell_type": "code",
      "metadata": {
        "colab": {
          "base_uri": "https://localhost:8080/"
        },
        "id": "yvjlWrtnfe57",
        "outputId": "d0b683a1-1347-4649-ae83-e1d814d76f70"
      },
      "source": [
        "model.fit(X_train_padded,y_train,batch_size=1024,epochs=15,validation_data=(X_test_padded,y_test))"
      ],
      "execution_count": 80,
      "outputs": [
        {
          "output_type": "stream",
          "text": [
            "Epoch 1/15\n",
            "50/50 [==============================] - 21s 248ms/step - loss: 0.2918 - accuracy: 0.0236 - val_loss: 0.0740 - val_accuracy: 0.0739\n",
            "Epoch 2/15\n",
            "50/50 [==============================] - 12s 234ms/step - loss: 0.0800 - accuracy: 0.0612 - val_loss: 0.0728 - val_accuracy: 0.0860\n",
            "Epoch 3/15\n",
            "50/50 [==============================] - 11s 230ms/step - loss: 0.0767 - accuracy: 0.0743 - val_loss: 0.0702 - val_accuracy: 0.1141\n",
            "Epoch 4/15\n",
            "50/50 [==============================] - 11s 229ms/step - loss: 0.0729 - accuracy: 0.1019 - val_loss: 0.0662 - val_accuracy: 0.1808\n",
            "Epoch 5/15\n",
            "50/50 [==============================] - 11s 228ms/step - loss: 0.0684 - accuracy: 0.1600 - val_loss: 0.0610 - val_accuracy: 0.2530\n",
            "Epoch 6/15\n",
            "50/50 [==============================] - 11s 230ms/step - loss: 0.0631 - accuracy: 0.2369 - val_loss: 0.0530 - val_accuracy: 0.3520\n",
            "Epoch 7/15\n",
            "50/50 [==============================] - 11s 229ms/step - loss: 0.0547 - accuracy: 0.3529 - val_loss: 0.0467 - val_accuracy: 0.4121\n",
            "Epoch 8/15\n",
            "50/50 [==============================] - 11s 230ms/step - loss: 0.0488 - accuracy: 0.4121 - val_loss: 0.0422 - val_accuracy: 0.4646\n",
            "Epoch 9/15\n",
            "50/50 [==============================] - 12s 231ms/step - loss: 0.0445 - accuracy: 0.4559 - val_loss: 0.0391 - val_accuracy: 0.5028\n",
            "Epoch 10/15\n",
            "50/50 [==============================] - 11s 230ms/step - loss: 0.0412 - accuracy: 0.4909 - val_loss: 0.0366 - val_accuracy: 0.5374\n",
            "Epoch 11/15\n",
            "50/50 [==============================] - 11s 229ms/step - loss: 0.0388 - accuracy: 0.5217 - val_loss: 0.0350 - val_accuracy: 0.5498\n",
            "Epoch 12/15\n",
            "50/50 [==============================] - 11s 229ms/step - loss: 0.0366 - accuracy: 0.5400 - val_loss: 0.0341 - val_accuracy: 0.5587\n",
            "Epoch 13/15\n",
            "50/50 [==============================] - 11s 229ms/step - loss: 0.0352 - accuracy: 0.5542 - val_loss: 0.0331 - val_accuracy: 0.5683\n",
            "Epoch 14/15\n",
            "50/50 [==============================] - 12s 231ms/step - loss: 0.0339 - accuracy: 0.5698 - val_loss: 0.0326 - val_accuracy: 0.5715\n",
            "Epoch 15/15\n",
            "50/50 [==============================] - 11s 231ms/step - loss: 0.0326 - accuracy: 0.5779 - val_loss: 0.0321 - val_accuracy: 0.5693\n"
          ],
          "name": "stdout"
        },
        {
          "output_type": "execute_result",
          "data": {
            "text/plain": [
              "<tensorflow.python.keras.callbacks.History at 0x7fe91764f518>"
            ]
          },
          "metadata": {
            "tags": []
          },
          "execution_count": 80
        }
      ]
    },
    {
      "cell_type": "code",
      "metadata": {
        "id": "dIPUjqkEfhOA"
      },
      "source": [
        "\r\n",
        "predictions=model.predict(X_test_padded)"
      ],
      "execution_count": 81,
      "outputs": []
    },
    {
      "cell_type": "code",
      "metadata": {
        "id": "7FGonrfxf3WT"
      },
      "source": [
        "\r\n",
        "from sklearn.metrics import roc_auc_score"
      ],
      "execution_count": 82,
      "outputs": []
    },
    {
      "cell_type": "code",
      "metadata": {
        "colab": {
          "base_uri": "https://localhost:8080/"
        },
        "id": "3ljYfqXZf3dV",
        "outputId": "08250d9b-a479-4bd2-cfc6-0b9bed973a82"
      },
      "source": [
        "\r\n",
        "roc_auc_score(y_test,predictions)"
      ],
      "execution_count": 83,
      "outputs": [
        {
          "output_type": "execute_result",
          "data": {
            "text/plain": [
              "0.9307982978889919"
            ]
          },
          "metadata": {
            "tags": []
          },
          "execution_count": 83
        }
      ]
    },
    {
      "cell_type": "code",
      "metadata": {
        "id": "e_3BSx86f3t6"
      },
      "source": [
        "\r\n",
        "def predict_tags(text):\r\n",
        "    # Tokenize text\r\n",
        "    x_test = pad_sequences(tokenizer.texts_to_sequences([text]), maxlen=MAX_SEQUENCE_LENGTH)\r\n",
        "    # Predict\r\n",
        "    prediction = model.predict([x_test])[0]\r\n",
        "    for i,value in enumerate(prediction):\r\n",
        "        if value > 0.5:\r\n",
        "            prediction[i] = 1\r\n",
        "        else:\r\n",
        "            prediction[i] = 0\r\n",
        "    tags = tag_encoder.inverse_transform(np.array([prediction]))\r\n",
        "    return tags"
      ],
      "execution_count": 85,
      "outputs": []
    },
    {
      "cell_type": "code",
      "metadata": {
        "colab": {
          "base_uri": "https://localhost:8080/"
        },
        "id": "EAbbsXm1f9eG",
        "outputId": "9382e884-c7b7-442c-d40a-663c51d6ee82"
      },
      "source": [
        "\r\n",
        "predict_tags('If NoClassDefFoundError cause ClassNotFoundException Java expect catch throwables When I run code app exit ClassNotFoundException uncaught ClassNotFoundException try Class clazz defineClass null bytes 0 byteslength null tableput clazzgetName clazz catch NoClassDefFoundError e When I attempt compile code compiler complain ClassNotFoundException reachable throw within try-clause try-catch statement Won compile try Class clazz defineClass null bytes 0 byteslength null tableput clazzgetName clazz catch ClassNotFoundException e When I run code throwable catch NoClassDefFoundError catch throwable type javalangNoClassDefFoundError javalangClassNotFoundException cause try Class clazz defineClass null bytes 0 byteslength null tableput clazzgetName clazz catch Throwable e Systemoutprintln egetClass getName Systemoutprintln egetCause getClass getName The follow code compile catch error error clumsy possible workaround try Class clazz defineClass null bytes 0 byteslength null tableput clazzgetName clazz 1 0 throw new ClassNotFoundException want code compile catch ClassNotFoundException e Systemoutprintln \" ex \" catch NoClassDefFoundError e Systemoutprintln \" err \" And yet I write follow I get away without catch clause cause error yet work fine try throw new Error new IOException catch Error e Systemoutprintln \" err \" Example 3 would lead conclude throwable NoClassDefFoundError Example 1 would lead conclude throwable ClassNotFoundException And yet Example 2 show java win even let write code properly catch ClassNotFoundException Just I conclude problem error-caused-by-an-exception I run code show previous example show rule Can someone please explain go PS stack trace javalangNoClassDefFoundError commypckageMyClass javalangClassLoaderdefineClass1 Native Method javalangClassLoaderdefineClass ClassLoaderjava 791 Main MyClassLoadergetClasses Mainjava 78 Mainmain Mainjava 109 Caused javalangClassNotFoundException commypckageMyClass javalangClassLoaderfindClass ClassLoaderjava 522 javalangClassLoaderloadClass ClassLoaderjava 423 javalangClassLoaderloadClass ClassLoaderjava 356 4')"
      ],
      "execution_count": 86,
      "outputs": [
        {
          "output_type": "execute_result",
          "data": {
            "text/plain": [
              "[('java',)]"
            ]
          },
          "metadata": {
            "tags": []
          },
          "execution_count": 86
        }
      ]
    },
    {
      "cell_type": "code",
      "metadata": {
        "id": "YDeS-SqIgD02"
      },
      "source": [
        "\r\n",
        "X_test=X_test.reset_index()"
      ],
      "execution_count": 87,
      "outputs": []
    },
    {
      "cell_type": "code",
      "metadata": {
        "colab": {
          "base_uri": "https://localhost:8080/",
          "height": 153
        },
        "id": "ugRWfBtlgGkg",
        "outputId": "2ebd9eeb-2834-430e-f797-2e189ef870a8"
      },
      "source": [
        "X_test.iloc[10,1]"
      ],
      "execution_count": 88,
      "outputs": [
        {
          "output_type": "execute_result",
          "data": {
            "application/vnd.google.colaboratory.intrinsic+json": {
              "type": "string"
            },
            "text/plain": [
              "'If NoClassDefFoundError cause ClassNotFoundException Java expect catch throwables When I run code app exit ClassNotFoundException uncaught ClassNotFoundException try Class clazz defineClass null bytes 0 byteslength null tableput clazzgetName clazz catch NoClassDefFoundError e When I attempt compile code compiler complain ClassNotFoundException reachable throw within try-clause try-catch statement Won compile try Class clazz defineClass null bytes 0 byteslength null tableput clazzgetName clazz catch ClassNotFoundException e When I run code throwable catch NoClassDefFoundError catch throwable type javalangNoClassDefFoundError javalangClassNotFoundException cause try Class clazz defineClass null bytes 0 byteslength null tableput clazzgetName clazz catch Throwable e Systemoutprintln egetClass getName Systemoutprintln egetCause getClass getName The follow code compile catch error error clumsy possible workaround try Class clazz defineClass null bytes 0 byteslength null tableput clazzgetName clazz 1 0 throw new ClassNotFoundException want code compile catch ClassNotFoundException e Systemoutprintln \" ex \" catch NoClassDefFoundError e Systemoutprintln \" err \" And yet I write follow I get away without catch clause cause error yet work fine try throw new Error new IOException catch Error e Systemoutprintln \" err \" Example 3 would lead conclude throwable NoClassDefFoundError Example 1 would lead conclude throwable ClassNotFoundException And yet Example 2 show java win even let write code properly catch ClassNotFoundException Just I conclude problem error-caused-by-an-exception I run code show previous example show rule Can someone please explain go PS stack trace javalangNoClassDefFoundError commypckageMyClass javalangClassLoaderdefineClass1 Native Method javalangClassLoaderdefineClass ClassLoaderjava 791 Main MyClassLoadergetClasses Mainjava 78 Mainmain Mainjava 109 Caused javalangClassNotFoundException commypckageMyClass javalangClassLoaderfindClass ClassLoaderjava 522 javalangClassLoaderloadClass ClassLoaderjava 423 javalangClassLoaderloadClass ClassLoaderjava 356 4'"
            ]
          },
          "metadata": {
            "tags": []
          },
          "execution_count": 88
        }
      ]
    },
    {
      "cell_type": "code",
      "metadata": {
        "colab": {
          "base_uri": "https://localhost:8080/",
          "height": 94
        },
        "id": "RJDQRUFbgGvH",
        "outputId": "da451b7f-6e4d-4793-d015-53a64cebd694"
      },
      "source": [
        "Question.loc[Question['Title_Body']=='If NoClassDefFoundError cause ClassNotFoundException Java expect catch throwables When I run code app exit ClassNotFoundException uncaught ClassNotFoundException try Class clazz defineClass null bytes 0 byteslength null tableput clazzgetName clazz catch NoClassDefFoundError e When I attempt compile code compiler complain ClassNotFoundException reachable throw within try-clause try-catch statement Won compile try Class clazz defineClass null bytes 0 byteslength null tableput clazzgetName clazz catch ClassNotFoundException e When I run code throwable catch NoClassDefFoundError catch throwable type javalangNoClassDefFoundError javalangClassNotFoundException cause try Class clazz defineClass null bytes 0 byteslength null tableput clazzgetName clazz catch Throwable e Systemoutprintln egetClass getName Systemoutprintln egetCause getClass getName The follow code compile catch error error clumsy possible workaround try Class clazz defineClass null bytes 0 byteslength null tableput clazzgetName clazz 1 0 throw new ClassNotFoundException want code compile catch ClassNotFoundException e Systemoutprintln \" ex \" catch NoClassDefFoundError e Systemoutprintln \" err \" And yet I write follow I get away without catch clause cause error yet work fine try throw new Error new IOException catch Error e Systemoutprintln \" err \" Example 3 would lead conclude throwable NoClassDefFoundError Example 1 would lead conclude throwable ClassNotFoundException And yet Example 2 show java win even let write code properly catch ClassNotFoundException Just I conclude problem error-caused-by-an-exception I run code show previous example show rule Can someone please explain go PS stack trace javalangNoClassDefFoundError commypckageMyClass javalangClassLoaderdefineClass1 Native Method javalangClassLoaderdefineClass ClassLoaderjava 791 Main MyClassLoadergetClasses Mainjava 78 Mainmain Mainjava 109 Caused javalangClassNotFoundException commypckageMyClass javalangClassLoaderfindClass ClassLoaderjava 522 javalangClassLoaderloadClass ClassLoaderjava 423 javalangClassLoaderloadClass ClassLoaderjava 356 4']"
      ],
      "execution_count": 89,
      "outputs": [
        {
          "output_type": "execute_result",
          "data": {
            "text/html": [
              "<div>\n",
              "<style scoped>\n",
              "    .dataframe tbody tr th:only-of-type {\n",
              "        vertical-align: middle;\n",
              "    }\n",
              "\n",
              "    .dataframe tbody tr th {\n",
              "        vertical-align: top;\n",
              "    }\n",
              "\n",
              "    .dataframe thead th {\n",
              "        text-align: right;\n",
              "    }\n",
              "</style>\n",
              "<table border=\"1\" class=\"dataframe\">\n",
              "  <thead>\n",
              "    <tr style=\"text-align: right;\">\n",
              "      <th></th>\n",
              "      <th>Title</th>\n",
              "      <th>Body</th>\n",
              "      <th>Tags</th>\n",
              "      <th>Title_Body</th>\n",
              "    </tr>\n",
              "  </thead>\n",
              "  <tbody>\n",
              "    <tr>\n",
              "      <th>449031</th>\n",
              "      <td>If NoClassDefFoundError cause ClassNotFoundExc...</td>\n",
              "      <td>When I run code app exit ClassNotFoundExceptio...</td>\n",
              "      <td>[java, exception]</td>\n",
              "      <td>If NoClassDefFoundError cause ClassNotFoundExc...</td>\n",
              "    </tr>\n",
              "  </tbody>\n",
              "</table>\n",
              "</div>"
            ],
            "text/plain": [
              "                                                    Title  ...                                         Title_Body\n",
              "449031  If NoClassDefFoundError cause ClassNotFoundExc...  ...  If NoClassDefFoundError cause ClassNotFoundExc...\n",
              "\n",
              "[1 rows x 4 columns]"
            ]
          },
          "metadata": {
            "tags": []
          },
          "execution_count": 89
        }
      ]
    }
  ]
}